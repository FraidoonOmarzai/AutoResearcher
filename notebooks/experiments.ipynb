{
 "cells": [
  {
   "cell_type": "markdown",
   "id": "9a4ea78e",
   "metadata": {},
   "source": [
    "<h1 align=center> Autonomous Research Assistant Agents </h1>"
   ]
  },
  {
   "cell_type": "markdown",
   "id": "3e45ae7d",
   "metadata": {},
   "source": []
  }
 ],
 "metadata": {
  "language_info": {
   "name": "python"
  }
 },
 "nbformat": 4,
 "nbformat_minor": 5
}
