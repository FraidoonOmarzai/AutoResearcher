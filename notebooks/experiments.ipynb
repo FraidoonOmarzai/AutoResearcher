{
 "cells": [
  {
   "cell_type": "markdown",
   "id": "9a4ea78e",
   "metadata": {},
   "source": [
    "<h1 align=center> Autonomous Research Assistant Agents </h1>\n"
   ]
  },
  {
   "cell_type": "code",
   "execution_count": 1,
   "id": "7ea0b971",
   "metadata": {},
   "outputs": [],
   "source": [
    "import arxiv\n",
    "import os\n",
    "\n",
    "from langchain_openai import ChatOpenAI\n",
    "from langchain.prompts import PromptTemplate\n",
    "from langgraph.graph import MessagesState, StateGraph, START, END\n",
    "from typing import Annotated, TypedDict, List, Optional\n",
    "from typing_extensions import Literal\n",
    "from langchain_core.messages import BaseMessage, HumanMessage\n",
    "from langgraph.types import Command\n",
    "from langgraph.prebuilt import create_react_agent\n",
    "from langchain.tools import tool\n",
    "\n",
    "\n",
    "from dotenv import load_dotenv\n",
    "\n",
    "load_dotenv()\n",
    "\n",
    "os.environ[\"OPENAI_API_KEY\"] = os.getenv(\"OPENAI_API_KEY\")\n",
    "os.environ[\"GROQ_API_KEY\"] = os.getenv(\"GROQ_API_KEY\")"
   ]
  },
  {
   "cell_type": "code",
   "execution_count": 2,
   "id": "0715ec65",
   "metadata": {},
   "outputs": [],
   "source": [
    "# from langchain_groq import ChatGroq\n",
    "\n",
    "# llm = ChatGroq(model_name=\"deepseek-r1-distill-llama-70b\")\n",
    "\n",
    "# results = llm.invoke(\"tell me about multi agent types?\")\n",
    "# results"
   ]
  },
  {
   "cell_type": "code",
   "execution_count": 3,
   "id": "17126bb8",
   "metadata": {},
   "outputs": [
    {
     "data": {
      "text/plain": [
       "AIMessage(content='Hello! How can I assist you today?', additional_kwargs={'refusal': None}, response_metadata={'token_usage': {'completion_tokens': 9, 'prompt_tokens': 8, 'total_tokens': 17, 'completion_tokens_details': {'accepted_prediction_tokens': 0, 'audio_tokens': 0, 'reasoning_tokens': 0, 'rejected_prediction_tokens': 0}, 'prompt_tokens_details': {'audio_tokens': 0, 'cached_tokens': 0}}, 'model_name': 'gpt-4-0613', 'system_fingerprint': None, 'id': 'chatcmpl-BmQwmvIOF9WDcloZpFW5Ka5v9JLVD', 'service_tier': 'default', 'finish_reason': 'stop', 'logprobs': None}, id='run--e398f637-3720-4bd8-9070-ba954f90bec1-0', usage_metadata={'input_tokens': 8, 'output_tokens': 9, 'total_tokens': 17, 'input_token_details': {'audio': 0, 'cache_read': 0}, 'output_token_details': {'audio': 0, 'reasoning': 0}})"
      ]
     },
     "execution_count": 3,
     "metadata": {},
     "output_type": "execute_result"
    }
   ],
   "source": [
    "# Initialize LLM (use gpt-4 or gpt-3.5-turbo)\n",
    "llm2 = ChatOpenAI(model=\"gpt-4\", temperature=0.2)\n",
    "llm2.invoke(\"hi\")"
   ]
  },
  {
   "cell_type": "markdown",
   "id": "eeb3f356",
   "metadata": {},
   "source": [
    "`Excellent progress — you now have:`\n",
    "\n",
    "✅ Search Agent – finds relevant papers\n",
    "\n",
    "✅ Filter Agent – selects the most suitable ones\n",
    "\n",
    "✅ Summarizer Agent – produces readable, concise summaries"
   ]
  },
  {
   "cell_type": "code",
   "execution_count": 63,
   "id": "e70af939",
   "metadata": {},
   "outputs": [],
   "source": [
    "## 1. Search Agent\n",
    "\n",
    "def get_arxiv_papers(topic: str, max_results: int = 5) -> list:\n",
    "    search = arxiv.Search(\n",
    "        query=topic,\n",
    "        max_results=max_results,\n",
    "        sort_by=arxiv.SortCriterion.Relevance\n",
    "    )\n",
    "\n",
    "    papers = []\n",
    "    for result in search.results():\n",
    "        paper_info = {\n",
    "            \"title\": result.title,\n",
    "            \"authors\": [author.name for author in result.authors],\n",
    "            \"summary\": result.summary.strip().replace(\"\\n\", \" \"),\n",
    "            \"url\": result.entry_id,\n",
    "            \"pdf_url\": result.pdf_url,\n",
    "            \"published\": str(result.published.date()),\n",
    "            \"year\": result.published.year\n",
    "        }\n",
    "        papers.append(paper_info)\n",
    "    return papers"
   ]
  },
  {
   "cell_type": "code",
   "execution_count": 43,
   "id": "99483f23",
   "metadata": {},
   "outputs": [
    {
     "name": "stderr",
     "output_type": "stream",
     "text": [
      "C:\\Users\\44787\\AppData\\Local\\Temp\\ipykernel_24804\\201622925.py:9: DeprecationWarning: The 'Search.results' method is deprecated, use 'Client.results' instead\n",
      "  for result in search.results():\n"
     ]
    },
    {
     "name": "stdout",
     "output_type": "stream",
     "text": [
      "📄 Paper 1: Aligning Large Language Models with Healthcare Stakeholders: A Pathway to Trustworthy AI Integration\n",
      "👨‍🔬 Authors: Kexin Ding, Mu Zhou, Akshay Chaudhari, Shaoting Zhang, Dimitris N. Metaxas\n",
      "🗓️ Published: 2025-05-02\n",
      "🔗 URL: http://arxiv.org/abs/2505.02848v1\n",
      "📄 Abstract:\n",
      "The wide exploration of large language models (LLMs) raises the awareness of alignment between\n",
      "healthcare stakeholder preferences and model outputs. This alignment becomes a crucial foundation to\n",
      "empower the healthcare workflow effectively, safely, and responsibly. Yet the varying behaviors of\n",
      "LLMs may not always match with healthcare stakeholders' knowledge, demands, and values. To enable a\n",
      "human-AI alignment, healthcare stakeholders will need to perform essential roles in guiding and\n",
      "enhancing...\n",
      "\n",
      "📄 Paper 2: An Analysis on Large Language Models in Healthcare: A Case Study of BioBERT\n",
      "👨‍🔬 Authors: Shyni Sharaf, V. S. Anoop\n",
      "🗓️ Published: 2023-10-11\n",
      "🔗 URL: http://arxiv.org/abs/2310.07282v2\n",
      "📄 Abstract:\n",
      "This paper conducts a comprehensive investigation into applying large language models, particularly\n",
      "on BioBERT, in healthcare. It begins with thoroughly examining previous natural language processing\n",
      "(NLP) approaches in healthcare, shedding light on the limitations and challenges these methods face.\n",
      "Following that, this research explores the path that led to the incorporation of BioBERT into\n",
      "healthcare applications, highlighting its suitability for addressing the specific requirements of\n",
      "tasks r...\n",
      "\n",
      "📄 Paper 3: The Role of Language Models in Modern Healthcare: A Comprehensive Review\n",
      "👨‍🔬 Authors: Amna Khalid, Ayma Khalid, Umar Khalid\n",
      "🗓️ Published: 2024-09-25\n",
      "🔗 URL: http://arxiv.org/abs/2409.16860v1\n",
      "📄 Abstract:\n",
      "The application of large language models (LLMs) in healthcare has gained significant attention due\n",
      "to their ability to process complex medical data and provide insights for clinical decision-making.\n",
      "These models have demonstrated substantial capabilities in understanding and generating natural\n",
      "language, which is crucial for medical documentation, diagnostics, and patient interaction. This\n",
      "review examines the trajectory of language models from their early stages to the current state-of-\n",
      "the-art LL...\n",
      "\n",
      "📄 Paper 4: Large language models in healthcare and medical domain: A review\n",
      "👨‍🔬 Authors: Zabir Al Nazi, Wei Peng\n",
      "🗓️ Published: 2023-12-12\n",
      "🔗 URL: http://arxiv.org/abs/2401.06775v2\n",
      "📄 Abstract:\n",
      "The deployment of large language models (LLMs) within the healthcare sector has sparked both\n",
      "enthusiasm and apprehension. These models exhibit the remarkable capability to provide proficient\n",
      "responses to free-text queries, demonstrating a nuanced understanding of professional medical\n",
      "knowledge. This comprehensive survey delves into the functionalities of existing LLMs designed for\n",
      "healthcare applications, elucidating the trajectory of their development, starting from traditional\n",
      "Pretrained Langu...\n",
      "\n",
      "📄 Paper 5: Developing Healthcare Language Model Embedding Spaces\n",
      "👨‍🔬 Authors: Niall Taylor, Dan Schofield, Andrey Kormilitzin, Dan W Joyce, Alejo Nevado-Holgado\n",
      "🗓️ Published: 2024-03-28\n",
      "🔗 URL: http://arxiv.org/abs/2403.19802v1\n",
      "📄 Abstract:\n",
      "Pre-trained Large Language Models (LLMs) often struggle on out-of-domain datasets like healthcare\n",
      "focused text. We explore specialized pre-training to adapt smaller LLMs to different healthcare\n",
      "datasets. Three methods are assessed: traditional masked language modeling, Deep Contrastive\n",
      "Learning for Unsupervised Textual Representations (DeCLUTR), and a novel pre-training objective\n",
      "utilizing metadata categories from the healthcare settings. These schemes are evaluated on\n",
      "downstream document classi...\n",
      "\n"
     ]
    }
   ],
   "source": [
    "import textwrap\n",
    "\n",
    "user_topic = \"Large Language Models in Healthcare\"\n",
    "papers = get_arxiv_papers(user_topic)\n",
    "\n",
    "\n",
    "wrapper = textwrap.TextWrapper(width=100)\n",
    "\n",
    "for i, paper in enumerate(papers):\n",
    "    print(f\"📄 Paper {i+1}: {paper['title']}\")\n",
    "    print(f\"👨‍🔬 Authors: {', '.join(paper['authors'])}\")\n",
    "    print(f\"🗓️ Published: {paper['published']}\")\n",
    "    print(f\"🔗 URL: {paper['url']}\")\n",
    "    print(\"📄 Abstract:\")\n",
    "    print(wrapper.fill(paper['summary'][:500]) + \"...\\n\")"
   ]
  },
  {
   "cell_type": "code",
   "execution_count": 44,
   "id": "05427b5d",
   "metadata": {},
   "outputs": [
    {
     "data": {
      "text/plain": [
       "5"
      ]
     },
     "execution_count": 44,
     "metadata": {},
     "output_type": "execute_result"
    }
   ],
   "source": [
    "len(papers)"
   ]
  },
  {
   "cell_type": "code",
   "execution_count": 62,
   "id": "c57acbb5",
   "metadata": {},
   "outputs": [],
   "source": [
    "## 2.Filter Agent\n",
    "\n",
    "filter_prompt = PromptTemplate(\n",
    "    input_variables=[\"topic\", \"papers\"],\n",
    "    template=\"\"\"\n",
    "        Given the topic: \"{topic}\"\n",
    "\n",
    "        Here are 5 research papers (title and abstract):\n",
    "        {papers}\n",
    "\n",
    "        From these, select the top 3 papers that are **most relevant and recent** to the topic.\n",
    "        Output them in a JSON format like:\n",
    "        [\n",
    "          {{ \"title\": \"...\", \"summary\": \"...\", \"year\": 2023, \"why_selected\": \"...\" }},\n",
    "          ...\n",
    "        ]\n",
    "    \"\"\"\n",
    ")\n",
    "\n",
    "filter_chain = filter_prompt | llm2\n",
    "\n",
    "filtered = filter_chain.invoke({\n",
    "    \"topic\": user_topic,\n",
    "    \"papers\": \"\\n\\n\".join([f\"Title: {p['title']}\\nAbstract: {p['summary']}\" for p in papers])\n",
    "})"
   ]
  },
  {
   "cell_type": "code",
   "execution_count": 66,
   "id": "fbfa3dd8",
   "metadata": {},
   "outputs": [
    {
     "name": "stdout",
     "output_type": "stream",
     "text": [
      "📄 Paper 1: Aligning Large Language Models with Healthcare Stakeholders: A Pathway to Trustworthy AI Integration\n",
      "👨‍🔬 Authors: N/A (not included here)\n",
      "🗓️ Year: 2023\n",
      "📌 Why Selected: This paper is selected because it discusses the alignment between large language models and healthcare stakeholders, which is a crucial aspect of integrating AI in healthcare. It also provides an outlook on enhancing this alignment, making it highly relevant to the topic.\n",
      "📄 Summary: The wide exploration of large language models (LLMs) raises the awareness of alignment between\n",
      "healthcare stakeholder preferences and model outputs. This alignment becomes a crucial foundation to\n",
      "empower the healthcare workflow effectively, safely, and responsibly. Yet the varying behaviors of\n",
      "LLMs may not always match with healthcare stakeholders' knowledge, demands, and values. To enable a\n",
      "human-AI alignment, healthcare stakeholders will need to perform essential roles in guiding and\n",
      "enhancing...\n",
      "\n",
      "📄 Paper 2: An Analysis on Large Language Models in Healthcare: A Case Study of BioBERT\n",
      "👨‍🔬 Authors: N/A (not included here)\n",
      "🗓️ Year: 2023\n",
      "📌 Why Selected: This paper is selected because it provides a comprehensive analysis of the application of large language models, specifically BioBERT, in healthcare. It also outlines a systematic methodology for fine-tuning these models to meet the unique needs of the healthcare domain, making it highly relevant to the topic.\n",
      "📄 Summary: This paper conducts a comprehensive investigation into applying large language models, particularly\n",
      "on BioBERT, in healthcare. It begins with thoroughly examining previous natural language processing\n",
      "(NLP) approaches in healthcare, shedding light on the limitations and challenges these methods face.\n",
      "Following that, this research explores the path that led to the incorporation of BioBERT into\n",
      "healthcare applications, highlighting its suitability for addressing the specific requirements of\n",
      "tasks r...\n",
      "\n",
      "📄 Paper 3: Developing Healthcare Language Model Embedding Spaces\n",
      "👨‍🔬 Authors: N/A (not included here)\n",
      "🗓️ Year: 2023\n",
      "📌 Why Selected: This paper is selected because it explores specialized pre-training to adapt large language models to different healthcare datasets. It also evaluates these models on downstream document classification tasks, making it highly relevant to the topic.\n",
      "📄 Summary: Pre-trained Large Language Models (LLMs) often struggle on out-of-domain datasets like healthcare\n",
      "focused text. We explore specialized pre-training to adapt smaller LLMs to different healthcare\n",
      "datasets. Three methods are assessed: traditional masked language modeling, Deep Contrastive\n",
      "Learning for Unsupervised Textual Representations (DeCLUTR), and a novel pre-training objective\n",
      "utilizing metadata categories from the healthcare settings. These schemes are evaluated on\n",
      "downstream document classi...\n",
      "\n"
     ]
    }
   ],
   "source": [
    "import json\n",
    "\n",
    "# Step 1: Extract JSON string from the content\n",
    "json_str = filtered.content\n",
    "\n",
    "# Step 2: Parse JSON string into Python list\n",
    "filtered_papers = json.loads(json_str)\n",
    "\n",
    "# Step 3: Now you can iterate over papers and access dict keys\n",
    "for i, paper in enumerate(filtered_papers):\n",
    "    print(f\"📄 Paper {i+1}: {paper['title']}\")\n",
    "    print(f\"👨‍🔬 Authors: N/A (not included here)\")\n",
    "    print(f\"🗓️ Year: {paper['year']}\")\n",
    "    print(f\"📌 Why Selected: {paper['why_selected']}\")\n",
    "    print(f\"📄 Summary: {wrapper.fill(paper['summary'][:500])}...\\n\")\n"
   ]
  },
  {
   "cell_type": "code",
   "execution_count": 67,
   "id": "501b509a",
   "metadata": {},
   "outputs": [],
   "source": [
    "## 3. Summarization Agent\n",
    "\n",
    "summary_prompt = PromptTemplate(\n",
    "    input_variables=[\"title\", \"abstract\"],\n",
    "    template=\"\"\"\n",
    "        You are a research assistant. Given the title and abstract of a paper, write a clear and concise summary (~100 words) in plain English.\n",
    "\n",
    "        Title: {title}\n",
    "        Abstract: {abstract}\n",
    "\n",
    "        Summary:\n",
    "    \"\"\"\n",
    ")\n",
    "\n",
    "summary_chain = summary_prompt | llm2\n",
    "\n",
    "summaries = []\n",
    "for paper in filtered_papers:\n",
    "    summary = summary_chain.invoke({\n",
    "        \"title\": paper[\"title\"],\n",
    "        \"abstract\": paper[\"summary\"]\n",
    "    })\n",
    "    summaries.append({\n",
    "        \"title\": paper[\"title\"],\n",
    "        \"summary\": summary,\n",
    "        \"link\": paper.get(\"url\")\n",
    "    })\n"
   ]
  },
  {
   "cell_type": "code",
   "execution_count": 75,
   "id": "623bf51f",
   "metadata": {},
   "outputs": [
    {
     "name": "stdout",
     "output_type": "stream",
     "text": [
      "📄 Paper 1: Aligning Large Language Models with Healthcare Stakeholders: A Pathway to Trustworthy AI Integration\n",
      "🔗 Link: No link provided\n",
      "📄 Summary: The wide exploration of large language models (LLMs) raises the awareness of alignment between\n",
      "healthcare stakeholder preferences and model outputs. This alignment becomes a crucial foundation to\n",
      "empower the healthcare workflow effectively, safely, and responsibly. Yet the varying behaviors of\n",
      "LLMs may not always match with healthcare stakeholders' knowledge, demands, and values. To enable a\n",
      "human-AI alignment, healthcare stakeholders will need to perform essential roles in guiding and\n",
      "enhancing...\n",
      "\n",
      "📄 Paper 2: An Analysis on Large Language Models in Healthcare: A Case Study of BioBERT\n",
      "🔗 Link: No link provided\n",
      "📄 Summary: This paper conducts a comprehensive investigation into applying large language models, particularly\n",
      "on BioBERT, in healthcare. It begins with thoroughly examining previous natural language processing\n",
      "(NLP) approaches in healthcare, shedding light on the limitations and challenges these methods face.\n",
      "Following that, this research explores the path that led to the incorporation of BioBERT into\n",
      "healthcare applications, highlighting its suitability for addressing the specific requirements of\n",
      "tasks r...\n",
      "\n",
      "📄 Paper 3: Developing Healthcare Language Model Embedding Spaces\n",
      "🔗 Link: No link provided\n",
      "📄 Summary: Pre-trained Large Language Models (LLMs) often struggle on out-of-domain datasets like healthcare\n",
      "focused text. We explore specialized pre-training to adapt smaller LLMs to different healthcare\n",
      "datasets. Three methods are assessed: traditional masked language modeling, Deep Contrastive\n",
      "Learning for Unsupervised Textual Representations (DeCLUTR), and a novel pre-training objective\n",
      "utilizing metadata categories from the healthcare settings. These schemes are evaluated on\n",
      "downstream document classi...\n",
      "\n"
     ]
    }
   ],
   "source": [
    "for i, paper in enumerate(papers):\n",
    "    title = paper[\"title\"]\n",
    "    summary = paper[\"summary\"]\n",
    "    link = paper.get(\"link\", \"No link provided\")\n",
    "\n",
    "    print(f\"📄 Paper {i+1}: {title}\")\n",
    "    print(f\"🔗 Link: {link}\")\n",
    "    print(f\"📄 Summary: {wrapper.fill(summary[:500])}...\\n\")\n"
   ]
  },
  {
   "cell_type": "code",
   "execution_count": 78,
   "id": "841826bd",
   "metadata": {},
   "outputs": [],
   "source": [
    "from fpdf import FPDF\n",
    "\n",
    "def save_summary_pdf(papers, filename=\"summary.pdf\"):\n",
    "    pdf = FPDF()\n",
    "    pdf.add_page()\n",
    "    pdf.set_font(\"Arial\", size=12)\n",
    "    \n",
    "    for i, paper in enumerate(papers):\n",
    "        pdf.multi_cell(0, 10, f\"{i+1}. {paper['title']}\", align='L')\n",
    "        pdf.multi_cell(0, 10, paper['summary'].content if hasattr(paper['summary'], 'content') else str(paper['summary']))\n",
    "        pdf.ln(10)\n",
    "    \n",
    "    pdf.output(filename)\n"
   ]
  },
  {
   "cell_type": "code",
   "execution_count": 79,
   "id": "2bff0ddd",
   "metadata": {},
   "outputs": [],
   "source": [
    "save_summary_pdf(summaries, f\"{user_topic}+.pdf\")"
   ]
  },
  {
   "cell_type": "code",
   "execution_count": null,
   "id": "e88bb7de",
   "metadata": {},
   "outputs": [],
   "source": []
  },
  {
   "cell_type": "code",
   "execution_count": 24,
   "id": "8f9bac41",
   "metadata": {},
   "outputs": [],
   "source": [
    "# LangChain prompt template\n",
    "summary_prompt = PromptTemplate.from_template(\"\"\"\n",
    "You are an AI research assistant. Read the abstract below and summarize the key points.\n",
    "\n",
    "Abstract:\n",
    "\"{abstract}\"\n",
    "\n",
    "Summarize in 3 bullet points.\n",
    "\"\"\")\n",
    "\n",
    "\n",
    "summarizer_chain = summary_prompt | llm2"
   ]
  },
  {
   "cell_type": "code",
   "execution_count": 29,
   "id": "5f775409",
   "metadata": {},
   "outputs": [],
   "source": [
    "summarized_papers = []\n",
    "\n",
    "for paper in papers:\n",
    "    abstract = paper[\"summary\"]\n",
    "    summary = summarizer_chain.invoke({\"abstract\": abstract})\n",
    "\n",
    "    paper_with_summary = {\n",
    "        **paper,\n",
    "        \"summary_bullets\": summary.content\n",
    "    }\n",
    "    summarized_papers.append(paper_with_summary)"
   ]
  },
  {
   "cell_type": "code",
   "execution_count": 30,
   "id": "d460c22f",
   "metadata": {},
   "outputs": [
    {
     "name": "stdout",
     "output_type": "stream",
     "text": [
      "📘 Paper 1: Aligning Large Language Models with Healthcare Stakeholders: A Pathway to Trustworthy AI Integration\n",
      "📝 Summary:\n",
      "- The use of large language models (LLMs) in healthcare requires alignment with the preferences, knowledge, and values of healthcare stakeholders to ensure effective, safe, and responsible workflows.\n",
      "- Healthcare professionals need to be involved in all stages of LLM adoption, including data curation, model training, and inference, to ensure human-AI alignment.\n",
      "- The review discusses methods to improve alignment between healthcare stakeholders and LLMs, emphasizing the need for better integration of healthcare knowledge, task understanding, and human guidance to build trustworthy healthcare applications.\n",
      "🔗 URL: http://arxiv.org/abs/2505.02848v1\n",
      "================================================================================\n",
      "\n",
      "📘 Paper 2: An Analysis on Large Language Models in Healthcare: A Case Study of BioBERT\n",
      "📝 Summary:\n",
      "- The paper investigates the application of large language models, specifically BioBERT, in healthcare, discussing its suitability for tasks related to biomedical text mining and outlining a systematic methodology for fine-tuning it to meet healthcare-specific needs. This includes data gathering, annotation, and specialized preprocessing techniques.\n",
      "- The research also covers model evaluation, focusing on healthcare benchmarks and functions like processing natural language in biomedical, question-answering, clinical document classification, and medical entity recognition. It also explores ways to improve the model's interpretability and compares its performance with existing healthcare-focused language models.\n",
      "- The paper highlights the benefits of incorporating BioBERT into healthcare, such as improved clinical decision support and efficient information retrieval, but also acknowledges challenges such as data privacy concerns, resource-intensive requirements, and the need for model customization to suit diverse healthcare domains.\n",
      "🔗 URL: http://arxiv.org/abs/2310.07282v2\n",
      "================================================================================\n",
      "\n",
      "📘 Paper 3: The Role of Language Models in Modern Healthcare: A Comprehensive Review\n",
      "📝 Summary:\n",
      "- Large language models (LLMs) are gaining prominence in healthcare due to their ability to process complex medical data and aid in clinical decision-making, particularly in areas like medical documentation, diagnostics, and patient interaction.\n",
      "- The review traces the evolution of these language models, emphasizing their strengths in healthcare applications, while also addressing challenges such as data privacy, bias, and ethical considerations.\n",
      "- The potential of LLMs to improve healthcare delivery is discussed, along with the necessary steps to ensure their ethical and effective integration into medical practice.\n",
      "🔗 URL: http://arxiv.org/abs/2409.16860v1\n",
      "================================================================================\n",
      "\n"
     ]
    }
   ],
   "source": [
    "for i, paper in enumerate(summarized_papers):\n",
    "    print(f\"📘 Paper {i+1}: {paper['title']}\")\n",
    "    print(f\"📝 Summary:\\n{paper['summary_bullets']}\")\n",
    "    print(f\"🔗 URL: {paper['url']}\\n{'='*80}\\n\")"
   ]
  },
  {
   "cell_type": "code",
   "execution_count": null,
   "id": "daf9cc60",
   "metadata": {},
   "outputs": [],
   "source": [
    "import json\n",
    "\n",
    "with open(f\"{topic}.json\", \"w\") as f:\n",
    "    json.dump(summarized_papers, f)"
   ]
  },
  {
   "cell_type": "markdown",
   "id": "ab597d0d",
   "metadata": {},
   "source": [
    "`Define Shared State`\n",
    "\n",
    "- LangGraph uses a shared dictionary-like state that agents can read/write.\n",
    "- Define what your state will contain.\n"
   ]
  },
  {
   "cell_type": "code",
   "execution_count": 9,
   "id": "96981930",
   "metadata": {},
   "outputs": [],
   "source": [
    "class ResearchState(TypedDict):\n",
    "    topic: str\n",
    "    papers: Optional[List[dict]]\n",
    "    summaries: Optional[List[dict]]"
   ]
  },
  {
   "cell_type": "code",
   "execution_count": 10,
   "id": "709976f7",
   "metadata": {},
   "outputs": [],
   "source": [
    "def get_next_node(last_message: BaseMessage, goto: str):\n",
    "    if \"FINAL ANSWER\" in last_message.content:\n",
    "        # Any agent decided the work is done\n",
    "        return END\n",
    "    return goto"
   ]
  },
  {
   "cell_type": "code",
   "execution_count": 11,
   "id": "0d0ee262",
   "metadata": {},
   "outputs": [],
   "source": [
    "def make_system_prompt(instruction: str) -> str:\n",
    "    return (\n",
    "        \"You are a helpful AI assistant, collaborating with other assistants.\"\n",
    "        \" Use the provided tools to progress towards answering the question.\"\n",
    "        \" If you are unable to fully answer, that's OK, another assistant with different tools \"\n",
    "        \" will help where you left off. Execute what you can to make progress.\"\n",
    "        \" If you or any of the other assistants have the final answer or deliverable,\"\n",
    "        \" prefix your response with FINAL ANSWER so the team knows to stop.\"\n",
    "        f\"\\n{instruction}\"\n",
    "    )"
   ]
  },
  {
   "cell_type": "code",
   "execution_count": 12,
   "id": "13576855",
   "metadata": {},
   "outputs": [],
   "source": [
    "@tool\n",
    "def arxiv1(topic: str, max_results: int = 2) -> str:\n",
    "    \"\"\"Fetches relevant paper abstracts from arXiv based on a topic.\"\"\"\n",
    "    papers = get_arxiv_papers(topic, max_results)\n",
    "    output = \"\"\n",
    "    for i, paper in enumerate(papers):\n",
    "        output += f\"\\n[{i+1}] {paper['title']} ({paper['published']})\\n\"\n",
    "        output += f\"Authors: {', '.join(paper['authors'])}\\n\"\n",
    "        output += f\"Abstract: {paper['summary'][:500]}...\\n\"\n",
    "        output += f\"URL: {paper['url']}\\n\\n\"\n",
    "    return output"
   ]
  },
  {
   "cell_type": "code",
   "execution_count": 13,
   "id": "d05d1114",
   "metadata": {},
   "outputs": [],
   "source": [
    "research_agent = create_react_agent(\n",
    "    llm2,\n",
    "    tools=[arxiv1],\n",
    "    prompt=make_system_prompt(\n",
    "        \"You can only do research. You are working with a summarizer colleague.\"\n",
    "    ),\n",
    ")"
   ]
  },
  {
   "cell_type": "code",
   "execution_count": 14,
   "id": "1c3c6a00",
   "metadata": {},
   "outputs": [],
   "source": [
    "@tool\n",
    "def summarize_abstract(abstract: str) -> str:\n",
    "    \"\"\"\n",
    "    Summarizes a research paper abstract into 3 concise bullet points.\n",
    "    \"\"\"\n",
    "\n",
    "    summary_prompt = PromptTemplate.from_template(\"\"\"\n",
    "    You are an AI research assistant. Read the abstract below and summarize the key points.\n",
    "\n",
    "    Abstract:\n",
    "    \"{abstract}\"\n",
    "\n",
    "    Summarize in 3 bullet points.\n",
    "    \"\"\")\n",
    "\n",
    "    response = summary_prompt | llm2\n",
    "    return response"
   ]
  },
  {
   "cell_type": "code",
   "execution_count": 15,
   "id": "c7f548a4",
   "metadata": {},
   "outputs": [],
   "source": [
    "summarized_agent = create_react_agent(\n",
    "    llm2,\n",
    "    tools=[summarize_abstract],\n",
    "    prompt=make_system_prompt(\n",
    "        \"You can only summarize abstracts. Your teammate provides the abstracts.\"\n",
    "    )\n",
    ")"
   ]
  },
  {
   "cell_type": "code",
   "execution_count": 16,
   "id": "fd93fa35",
   "metadata": {},
   "outputs": [],
   "source": [
    "def research_node(state: MessagesState) -> Command[Literal[\"summarizer\", END]]:\n",
    "\n",
    "    result = research_agent.invoke(state)\n",
    "\n",
    "    goto = get_next_node(result[\"messages\"][-1], \"summarizer\")\n",
    "\n",
    "    result[\"messages\"][-1] = HumanMessage(\n",
    "        content=result[\"messages\"][-1].content, name=\"researcher\")\n",
    "\n",
    "    return Command(update={\"messages\": result[\"messages\"]}, goto=goto)"
   ]
  },
  {
   "cell_type": "code",
   "execution_count": 17,
   "id": "ae2d119b",
   "metadata": {},
   "outputs": [],
   "source": [
    "def summarizer_node(state: MessagesState) -> Command[Literal[\"researcher\", END]]:\n",
    "\n",
    "    result = summarized_agent.invoke(state)\n",
    "\n",
    "    goto = get_next_node(result[\"messages\"][-1], \"researcher\")\n",
    "\n",
    "    result[\"messages\"][-1] = HumanMessage(\n",
    "        content=result[\"messages\"][-1].content, name=\"summarizer\")\n",
    "\n",
    "    return Command(update={\"messages\": result[\"messages\"]}, goto=goto)"
   ]
  },
  {
   "cell_type": "code",
   "execution_count": 18,
   "id": "a241b2b8",
   "metadata": {},
   "outputs": [],
   "source": [
    "workflow = StateGraph(MessagesState)\n",
    "\n",
    "workflow.add_node(\"researcher\", research_node)\n",
    "workflow.add_node(\"summarizer\", summarizer_node)\n",
    "\n",
    "workflow.add_edge(START, \"researcher\")\n",
    "app = workflow.compile()"
   ]
  },
  {
   "cell_type": "code",
   "execution_count": 19,
   "id": "46cb52e9",
   "metadata": {},
   "outputs": [
    {
     "data": {
      "image/png": "[encoded data removed]",
      "text/plain": [
       "<IPython.core.display.Image object>"
      ]
     },
     "metadata": {},
     "output_type": "display_data"
    }
   ],
   "source": [
    "from IPython.display import Image, display\n",
    "display(Image(app.get_graph().draw_mermaid_png()))"
   ]
  },
  {
   "cell_type": "code",
   "execution_count": 20,
   "id": "d629430f",
   "metadata": {},
   "outputs": [
    {
     "name": "stderr",
     "output_type": "stream",
     "text": [
      "C:\\Users\\44787\\AppData\\Local\\Temp\\ipykernel_24804\\3121392185.py:9: DeprecationWarning: The 'Search.results' method is deprecated, use 'Client.results' instead\n",
      "  for result in search.results():\n"
     ]
    },
    {
     "data": {
      "text/plain": [
       "{'messages': [HumanMessage(content='get the research paper in transformer', additional_kwargs={}, response_metadata={}, id='07c6511d-f92b-47b2-a42c-b963a728f083'),\n",
       "  AIMessage(content='', additional_kwargs={'tool_calls': [{'id': 'call_ao1MjJ7fSCGPvtbAkykWBiEz', 'function': {'arguments': '{\\n  \"topic\": \"transformer\",\\n  \"max_results\": 5\\n}', 'name': 'arxiv1'}, 'type': 'function'}], 'refusal': None}, response_metadata={'token_usage': {'completion_tokens': 25, 'prompt_tokens': 173, 'total_tokens': 198, 'completion_tokens_details': {'accepted_prediction_tokens': 0, 'audio_tokens': 0, 'reasoning_tokens': 0, 'rejected_prediction_tokens': 0}, 'prompt_tokens_details': {'audio_tokens': 0, 'cached_tokens': 0}}, 'model_name': 'gpt-4-0613', 'system_fingerprint': None, 'id': 'chatcmpl-BmQxVpkjNxxJZJkROoapL1TrhbeyG', 'service_tier': 'default', 'finish_reason': 'tool_calls', 'logprobs': None}, id='run--0059b588-16dc-4c61-a3d3-87e3866b58c4-0', tool_calls=[{'name': 'arxiv1', 'args': {'topic': 'transformer', 'max_results': 5}, 'id': 'call_ao1MjJ7fSCGPvtbAkykWBiEz', 'type': 'tool_call'}], usage_metadata={'input_tokens': 173, 'output_tokens': 25, 'total_tokens': 198, 'input_token_details': {'audio': 0, 'cache_read': 0}, 'output_token_details': {'audio': 0, 'reasoning': 0}}),\n",
       "  ToolMessage(content=\"\\n[1] The Xi-transform for conformally flat space-time (2006-12-01)\\nAuthors: George Sparling\\nAbstract: The Xi-transform is a new spinor transform arising naturally in Einstein's\\ngeneral relativity. Here the example of conformally flat space-time is\\ndiscussed in detail. In particular it is shown that for this case, the\\ntransform coincides with two other naturally defined transforms: one a\\ntwo-variable transform on the Lie group SU(2, C), the other a transform on the\\nspace of null split octaves. The key properties of the transform are developed....\\nURL: http://arxiv.org/abs/gr-qc/0612006v1\\n\\n\\n[2] Multiple basic hypergeometric transformation formulas arising from the balanced duality transformation (2013-10-08)\\nAuthors: Yasushi Kajihara\\nAbstract: Some multiple hypergeometric transformation formulas arising from the\\nbalanced du- ality transformation formula are discussed through the symmetry.\\nDerivations of some transformation formulas with different dimensions are given\\nby taking certain limits of the balanced duality transformation. By combining\\nsome of them, some transformation formulas for $A_n$ basic hypergeometric\\nseries is given. They include some generalizations of Watson, Sears and ${}_8\\nW_7$ transformations....\\nURL: http://arxiv.org/abs/1310.1984v2\\n\\n\\n[3] The Fourier and Hilbert transforms under the Bargmann transform (2016-05-27)\\nAuthors: Xing-Tang Dong, Kehe Zhu\\nAbstract: There is a canonical unitary transformation from $L^2(\\\\R)$ onto the Fock\\nspace $F^2$, called the Bargmann transform. We study the action of the Bargmann\\ntransform on several classical integral operators on $L^2(\\\\R)$, including the\\nfractional Fourier transform, the fractional Hilbert transform, and the wavelet\\ntransform....\\nURL: http://arxiv.org/abs/1605.08683v1\\n\\n\\n[4] Identities for the Ln-transform, the L2n-transform and the P2n transform and their applications (2014-03-10)\\nAuthors: Nese Dernek, Fatih Aylikci\\nAbstract: In the present paper, the authors introduce several new integral transforms\\nincluding the Ln-transform, the L2n-transform and P2n-transform generalizations\\nof the classical Laplace transform and the classical Stieltjes transform as\\nrespectively. It is shown that the second iterate of the L2n-transform is\\nessentially the P2n-transform. Using this relationship, a few new\\nParseval-Goldstein type identities are obtained. The theorem and the lemmas\\nthat are proven in this article are new useful relat...\\nURL: http://arxiv.org/abs/1403.2188v1\\n\\n\\n[5] Towards Lightweight Transformer via Group-wise Transformation for Vision-and-Language Tasks (2022-04-16)\\nAuthors: Gen Luo, Yiyi Zhou, Xiaoshuai Sun, Yan Wang, Liujuan Cao, Yongjian Wu, Feiyue Huang, Rongrong Ji\\nAbstract: Despite the exciting performance, Transformer is criticized for its excessive\\nparameters and computation cost. However, compressing Transformer remains as an\\nopen problem due to its internal complexity of the layer designs, i.e.,\\nMulti-Head Attention (MHA) and Feed-Forward Network (FFN). To address this\\nissue, we introduce Group-wise Transformation towards a universal yet\\nlightweight Transformer for vision-and-language tasks, termed as\\nLW-Transformer. LW-Transformer applies Group-wise Transforma...\\nURL: http://arxiv.org/abs/2204.07780v1\\n\\n\", name='arxiv1', id='1c180052-ca51-4ce9-8278-d5836222d39f', tool_call_id='call_ao1MjJ7fSCGPvtbAkykWBiEz'),\n",
       "  HumanMessage(content='Here are some research papers related to \"transformer\":\\n\\n1. [The Xi-transform for conformally flat space-time](http://arxiv.org/abs/gr-qc/0612006v1) by George Sparling (2006): This paper discusses the Xi-transform, a new spinor transform arising naturally in Einstein\\'s general relativity. The example of conformally flat space-time is discussed in detail.\\n\\n2. [Multiple basic hypergeometric transformation formulas arising from the balanced duality transformation](http://arxiv.org/abs/1310.1984v2) by Yasushi Kajihara (2013): This paper discusses some multiple hypergeometric transformation formulas arising from the balanced duality transformation formula.\\n\\n3. [The Fourier and Hilbert transforms under the Bargmann transform](http://arxiv.org/abs/1605.08683v1) by Xing-Tang Dong, Kehe Zhu (2016): This paper studies the action of the Bargmann transform on several classical integral operators on L^2(R), including the fractional Fourier transform, the fractional Hilbert transform, and the wavelet transform.\\n\\n4. [Identities for the Ln-transform, the L2n-transform and the P2n transform and their applications](http://arxiv.org/abs/1403.2188v1) by Nese Dernek, Fatih Aylikci (2014): This paper introduces several new integral transforms including the Ln-transform, the L2n-transform and P2n-transform generalizations of the classical Laplace transform and the classical Stieltjes transform.\\n\\n5. [Towards Lightweight Transformer via Group-wise Transformation for Vision-and-Language Tasks](http://arxiv.org/abs/2204.07780v1) by Gen Luo, Yiyi Zhou, Xiaoshuai Sun, Yan Wang, Liujuan Cao, Yongjian Wu, Feiyue Huang, Rongrong Ji (2022): This paper introduces Group-wise Transformation towards a universal yet lightweight Transformer for vision-and-language tasks, termed as LW-Transformer. LW-Transformer applies Group-wise Transformation to both MHA and FFN, significantly reducing the parameters and computation cost.\\n\\nPlease note that the first four papers are not directly related to the Transformer model in machine learning. The last paper is the most relevant to the Transformer model in the context of machine learning and natural language processing.', additional_kwargs={}, response_metadata={}, name='researcher', id='7377d24c-27a8-419a-a6ff-f66f41ebc6dc'),\n",
       "  AIMessage(content='', additional_kwargs={'tool_calls': [{'id': 'call_Nv3ZjYVAJySPYRQ8Mrb5vh6T', 'function': {'arguments': '{\\n\"abstract\": \"Despite the exciting performance, Transformer is criticized for its excessive parameters and computation cost. However, compressing Transformer remains as an open problem due to its internal complexity of the layer designs, i.e., Multi-Head Attention (MHA) and Feed-Forward Network (FFN). To address this issue, we introduce Group-wise Transformation towards a universal yet lightweight Transformer for vision-and-language tasks, termed as LW-Transformer. LW-Transformer applies Group-wise Transformation to both MHA and FFN, significantly reducing the parameters and computation cost.\"\\n}', 'name': 'summarize_abstract'}, 'type': 'function'}], 'refusal': None}, response_metadata={'token_usage': {'completion_tokens': 121, 'prompt_tokens': 1456, 'total_tokens': 1577, 'completion_tokens_details': {'accepted_prediction_tokens': 0, 'audio_tokens': 0, 'reasoning_tokens': 0, 'rejected_prediction_tokens': 0}, 'prompt_tokens_details': {'audio_tokens': 0, 'cached_tokens': 0}}, 'model_name': 'gpt-4-0613', 'system_fingerprint': None, 'id': 'chatcmpl-BmQxuRejDUB9Ue8VZO2pdm6CIzKBL', 'service_tier': 'default', 'finish_reason': 'tool_calls', 'logprobs': None}, id='run--efe37949-8bc4-409b-844a-749675989988-0', tool_calls=[{'name': 'summarize_abstract', 'args': {'abstract': 'Despite the exciting performance, Transformer is criticized for its excessive parameters and computation cost. However, compressing Transformer remains as an open problem due to its internal complexity of the layer designs, i.e., Multi-Head Attention (MHA) and Feed-Forward Network (FFN). To address this issue, we introduce Group-wise Transformation towards a universal yet lightweight Transformer for vision-and-language tasks, termed as LW-Transformer. LW-Transformer applies Group-wise Transformation to both MHA and FFN, significantly reducing the parameters and computation cost.'}, 'id': 'call_Nv3ZjYVAJySPYRQ8Mrb5vh6T', 'type': 'tool_call'}], usage_metadata={'input_tokens': 1456, 'output_tokens': 121, 'total_tokens': 1577, 'input_token_details': {'audio': 0, 'cache_read': 0}, 'output_token_details': {'audio': 0, 'reasoning': 0}}),\n",
       "  ToolMessage(content='first=PromptTemplate(input_variables=[\\'abstract\\'], input_types={}, partial_variables={}, template=\\'\\\\n    You are an AI research assistant. Read the abstract below and summarize the key points.\\\\n\\\\n    Abstract:\\\\n    \"{abstract}\"\\\\n\\\\n    Summarize in 3 bullet points.\\\\n    \\') middle=[] last=ChatOpenAI(client=<openai.resources.chat.completions.completions.Completions object at 0x00000235EB6AC680>, async_client=<openai.resources.chat.completions.completions.AsyncCompletions object at 0x00000235EBB52630>, root_client=<openai.OpenAI object at 0x00000235E8569BB0>, root_async_client=<openai.AsyncOpenAI object at 0x00000235EBB20D70>, model_name=\\'gpt-4\\', temperature=0.2, model_kwargs={}, openai_api_key=SecretStr(\\'**********\\'))', name='summarize_abstract', id='3427366e-8947-4998-96bc-503001c0e426', tool_call_id='call_Nv3ZjYVAJySPYRQ8Mrb5vh6T'),\n",
       "  HumanMessage(content=\"- The paper addresses the issue of the Transformer model's excessive parameters and computation cost, which has been a challenge due to the internal complexity of its layer designs, specifically Multi-Head Attention (MHA) and Feed-Forward Network (FFN).\\n- To solve this problem, the authors introduce a Group-wise Transformation approach, aiming to create a universal yet lightweight Transformer for vision-and-language tasks, which they call LW-Transformer.\\n- The LW-Transformer applies Group-wise Transformation to both MHA and FFN, which significantly reduces the parameters and computation cost.\", additional_kwargs={}, response_metadata={}, name='summarizer', id='120f20f5-7290-40ed-91ec-f56810cd4d11'),\n",
       "  HumanMessage(content='The paper \"Towards Lightweight Transformer via Group-wise Transformation for Vision-and-Language Tasks\" introduces a new approach to address the issue of the Transformer model\\'s high computational cost and excessive parameters. The key points are:\\n\\n- The authors identify the complexity of the Transformer\\'s layer designs, specifically Multi-Head Attention (MHA) and Feed-Forward Network (FFN), as the main challenge in reducing its computational cost and parameters.\\n- They propose a Group-wise Transformation approach to create a more efficient version of the Transformer for vision-and-language tasks, which they call the LW-Transformer.\\n- The LW-Transformer applies Group-wise Transformation to both MHA and FFN, resulting in a significant reduction in parameters and computational cost.', additional_kwargs={}, response_metadata={}, name='researcher', id='598b7e83-eeef-4d29-9786-5382c5101f3e'),\n",
       "  HumanMessage(content='FINAL ANSWER:\\n\\nThe paper \"Towards Lightweight Transformer via Group-wise Transformation for Vision-and-Language Tasks\" introduces a new approach to address the issue of the Transformer model\\'s high computational cost and excessive parameters. The key points are:\\n\\n- The authors identify the complexity of the Transformer\\'s layer designs, specifically Multi-Head Attention (MHA) and Feed-Forward Network (FFN), as the main challenge in reducing its computational cost and parameters.\\n- They propose a Group-wise Transformation approach to create a more efficient version of the Transformer for vision-and-language tasks, which they call the LW-Transformer.\\n- The LW-Transformer applies Group-wise Transformation to both MHA and FFN, resulting in a significant reduction in parameters and computational cost.', additional_kwargs={}, response_metadata={}, name='summarizer', id='8ef53cb7-9783-4774-a392-a456d9106ad5')]}"
      ]
     },
     "execution_count": 20,
     "metadata": {},
     "output_type": "execute_result"
    }
   ],
   "source": [
    "app.invoke({\"messages\": [(\"user\", \"get the research paper in transformer\")], })"
   ]
  },
  {
   "cell_type": "code",
   "execution_count": null,
   "id": "952322fa",
   "metadata": {},
   "outputs": [],
   "source": []
  }
 ],
 "metadata": {
  "kernelspec": {
   "display_name": "autores-agent",
   "language": "python",
   "name": "python3"
  },
  "language_info": {
   "codemirror_mode": {
    "name": "ipython",
    "version": 3
   },
   "file_extension": ".py",
   "mimetype": "text/x-python",
   "name": "python",
   "nbconvert_exporter": "python",
   "pygments_lexer": "ipython3",
   "version": "3.12.11"
  }
 },
 "nbformat": 4,
 "nbformat_minor": 5
}
